{
 "cells": [
  {
   "cell_type": "markdown",
   "metadata": {
    "colab_type": "text",
    "id": "5fSQtZvzahBK"
   },
   "source": [
    "## Paper Equations \n",
    "By : Reza Yogaswara\n",
    "___"
   ]
  },
  {
   "cell_type": "markdown",
   "metadata": {
    "colab_type": "text",
    "id": "1IuUzNX3Nt5G"
   },
   "source": [
    "$p = \\frac{1}{1 + e^{(-y)}}$\n"
   ]
  },
  {
   "cell_type": "markdown",
   "metadata": {
    "colab_type": "text",
    "id": "Nj0vsl6j4pc9"
   },
   "source": [
    "$p = \\frac{1}{1 + e^{(b_0 + b_1x)}}$"
   ]
  },
  {
   "cell_type": "markdown",
   "metadata": {
    "colab_type": "text",
    "id": "aEzdRq3YNt5J"
   },
   "source": [
    "$\\sum_{i=0}^n i^2 = \\frac{(n^2+n)(2n+1)}{6}$"
   ]
  },
  {
   "cell_type": "markdown",
   "metadata": {
    "colab_type": "text",
    "id": "nGYujXvpVANb"
   },
   "source": [
    "$\\frac {p}{1-p} = exp(b_0 + b_1x)$"
   ]
  },
  {
   "cell_type": "markdown",
   "metadata": {
    "colab_type": "text",
    "id": "hyqqkyZh2VZK"
   },
   "source": [
    "$p(y=1|x) = \\frac {e^{(b_0 + b_1x)}}{1 + e^{(b_0 + b_1x)}} = \\frac{1}{1 + e^{(-y)}}$"
   ]
  },
  {
   "cell_type": "markdown",
   "metadata": {
    "colab_type": "text",
    "id": "kSZtHB5a6waA"
   },
   "source": [
    "$p(y=1|x) = 1\\quad\\mathsf {if}\\quad b_1x \\ge 0$\n",
    "\n",
    "$p(y=1|x) = 0\\quad\\mathsf {if}\\quad b_1x < 0$\n",
    "\n"
   ]
  },
  {
   "cell_type": "markdown",
   "metadata": {
    "colab_type": "text",
    "id": "XLIE3Sxu82zC"
   },
   "source": [
    "$x =  Input$\n",
    "\n",
    "$b_0 = Bias $\n",
    "\n",
    "$b_1 = The \\ weight \\ vector$\n",
    "\n",
    "$y = The \\ prediction, \\ 1 \\ if \\ \"yes\" \\ and \\ 0 \\ if \\ \"no\"$"
   ]
  },
  {
   "cell_type": "markdown",
   "metadata": {
    "colab_type": "text",
    "id": "8joPYFZwYWab"
   },
   "source": [
    "$J(w,b) = \\frac{1}{m}\\sum_{i=1}^{m}{L}(\\hat{y}^{(i)}, {y}^{(i)})$\n",
    "\n",
    "$J(w,b) = -\\frac{1}{m}\\sum_{i=1}^{m}y^{(i)}\\log(\\hat{y}^{(i)})+(1-y^{(i)})\\log(1-\\hat{y}^{(i)})$"
   ]
  },
  {
   "cell_type": "markdown",
   "metadata": {},
   "source": [
    "$y_{input} = w_1x_1 + w_2x_2 + w_3x_3 $"
   ]
  },
  {
   "cell_type": "markdown",
   "metadata": {},
   "source": [
    "$y = f(y_{input}) $"
   ]
  },
  {
   "cell_type": "markdown",
   "metadata": {},
   "source": [
    "$f(x) = \\frac{1}{1 + exp^{(-x)}}$"
   ]
  },
  {
   "cell_type": "markdown",
   "metadata": {},
   "source": [
    "#### ReLU\n",
    "\n",
    "$f(x) = x^+ = max(0, x)$\n"
   ]
  },
  {
   "cell_type": "markdown",
   "metadata": {},
   "source": [
    "##### tanh\n",
    "\n",
    "$tanh \\ x = \\frac {sinh \\ x}{cosh \\ x} = \\frac {e^{x}-e^{-x}}{e^{x}+e^{-x}} =  \\frac {1-e^{-2x}}{1+e^{-2x}} $"
   ]
  },
  {
   "cell_type": "code",
   "execution_count": null,
   "metadata": {
    "collapsed": true
   },
   "outputs": [],
   "source": []
  }
 ],
 "metadata": {
  "colab": {
   "collapsed_sections": [],
   "default_view": {},
   "name": "Equations.ipynb",
   "provenance": [],
   "version": "0.3.2",
   "views": {}
  },
  "kernelspec": {
   "display_name": "Python 3",
   "language": "python",
   "name": "python3"
  },
  "language_info": {
   "codemirror_mode": {
    "name": "ipython",
    "version": 3
   },
   "file_extension": ".py",
   "mimetype": "text/x-python",
   "name": "python",
   "nbconvert_exporter": "python",
   "pygments_lexer": "ipython3",
   "version": "3.6.2"
  }
 },
 "nbformat": 4,
 "nbformat_minor": 1
}
